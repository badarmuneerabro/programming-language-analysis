{
  "nbformat": 4,
  "nbformat_minor": 0,
  "metadata": {
    "colab": {
      "provenance": []
    },
    "kernelspec": {
      "name": "python3",
      "display_name": "Python 3"
    },
    "language_info": {
      "name": "python"
    }
  },
  "cells": [
    {
      "cell_type": "markdown",
      "source": [
        "# Programming languages Analysis"
      ],
      "metadata": {
        "id": "udkIF4ydVVyc"
      }
    },
    {
      "cell_type": "markdown",
      "source": [
        "I have got this dataset from kaggle datasets. This dataset includes the data of many programming languages with people doing that. My target with this dataset will be to get the most trending and popular programming language in the world. For that I shall be using Pandas and matplotlib heavily which are important libraries of Python programming language."
      ],
      "metadata": {
        "id": "4X1m_l52Vb8A"
      }
    },
    {
      "cell_type": "markdown",
      "source": [
        "# Loading Dataset"
      ],
      "metadata": {
        "id": "99VmRqgGVg2c"
      }
    },
    {
      "cell_type": "code",
      "execution_count": 1,
      "metadata": {
        "id": "Ij-hhdoSpfaU"
      },
      "outputs": [],
      "source": [
        "import numpy as np\n",
        "import pandas as pd"
      ]
    },
    {
      "cell_type": "code",
      "source": [
        "df =pd.read_csv(\"/content/pydevsurvey2018.csv\")"
      ],
      "metadata": {
        "id": "oac0SdJwsex2",
        "colab": {
          "base_uri": "https://localhost:8080/"
        },
        "outputId": "856e2b93-1634-4683-b8e5-ecb9a9488a3c"
      },
      "execution_count": 3,
      "outputs": [
        {
          "output_type": "stream",
          "name": "stderr",
          "text": [
            "/usr/local/lib/python3.7/dist-packages/IPython/core/interactiveshell.py:3326: DtypeWarning: Columns (5,7,15,19,47,62,70,74,77,78,80,81,84,87,95,98,99,103,112,114,115,116,118,119,120,121,122,123,124,125,136,137,146,149,150,152,153,155,156,157,158,159,160,162,163,174,186,187,190,193,196,197,199,203,210,218,231,241,250,251,264,283,285,288,289,290,292,293,294,298,325,331,332,334,335,337,341,342,343,344,350,365,375,376,377,378,379,386,407,413,414,415,417,418,428,435,436,439,442,443,445,446,447,448,456,461,462,463,468,470,471,473,479,482,483,484,485,486,487,488,489,490,492,493,494,496,497,498,499,500,501,503,505,507,508,517,520,521,522,523,525,526,530,531,532,534,538,539,540,555,557,566,569,572,574,575,578,579,580,584,586,601,607,616,618,619,622,627,630,632,633,634,635,636,641,649,653,656,658,659,660,662,667,668,669,670,671,675,676,683,684,685,689,690,692,693,694,695,696,697,698,699,702,705,706,707,708,711,713,717,718,721,725,726,727,729,730,732,733,734,736,737,738,741,743,744,745,751,755,756,757,758,760,761,762,764,765,768,769,774,775,777,778,779,780,782,783,784,785,786,787,788,789,790,791,793,794,796,797,798,799,800,801,802,803,804,806,807,808,809,810,811,812,813,814,815,819,820,822,825,826,827,829,830,832,833,834,836,837,838,849,850,851,852,860,862,863,869,870,875,879,884,885,886,888,891,904,905,906,907,908,909,910,912,914,916,918,919,920,923,924,926,929,930,931,932,933,934,935,936,946,953,957,958,962,972,975,977,981,984,986,992,1003,1006,1048,1051,1060,1062,1063,1064,1065,1067,1068,1069,1071,1076,1077,1078,1081) have mixed types.Specify dtype option on import or set low_memory=False.\n",
            "  exec(code_obj, self.user_global_ns, self.user_ns)\n"
          ]
        }
      ]
    },
    {
      "cell_type": "markdown",
      "source": [
        "It is a large dataset having so many columns but here we are going to use few of them. Filtering the dataFrame by selecting particular columns.\n",
        "\n"
      ],
      "metadata": {
        "id": "NutUrrmPWo-u"
      }
    },
    {
      "cell_type": "code",
      "source": [
        "df = df[['employemnt.status','age','country','programming.language.Java','programming.language.C','programming.language.C++','programming.language.Python','programming.language.C#','programming.language.PHP','programming.language.JavaScript','programming.language.Ruby','programming.language.Kotlin','programming.language.Swift','programming.language.Go','programming.language.HTML / CSS','programming.language.R','programming.language.Dart','programming.language.Rust','programming.language.Julia']]"
      ],
      "metadata": {
        "id": "p-uD6vPnWjbC"
      },
      "execution_count": 4,
      "outputs": []
    },
    {
      "cell_type": "markdown",
      "source": [
        "Column names are a little detailed because dataset was having so many columns. Here we shall simplify the names of the columns."
      ],
      "metadata": {
        "id": "riSyDW0IXiVe"
      }
    },
    {
      "cell_type": "code",
      "source": [
        "df = df.rename(columns={'programming.language.Java':'Java','programming.language.C':'C','programming.language.C++':'C++','programming.language.Python':'Python','programming.language.C#':'C#','programming.language.PHP':'PHP','programming.language.JavaScript':'JavaScript','programming.language.Ruby':'Ruby','programming.language.Kotlin':'Kotlin','programming.language.Swift':'Swift','programming.language.Go':'Go','programming.language.HTML / CSS':'HTML / CSS','programming.language.R':'R','programming.language.Dart':'Dart','programming.language.Rust':'Rust','programming.language.Julia':'Julia'})"
      ],
      "metadata": {
        "id": "JUjUll63XSj6"
      },
      "execution_count": 5,
      "outputs": []
    },
    {
      "cell_type": "code",
      "source": [
        "df.head(10)"
      ],
      "metadata": {
        "colab": {
          "base_uri": "https://localhost:8080/",
          "height": 774
        },
        "id": "cTZyw4I5Xspx",
        "outputId": "e9d15986-a08f-4ec4-dc27-9c90f297227e"
      },
      "execution_count": 6,
      "outputs": [
        {
          "output_type": "execute_result",
          "data": {
            "text/plain": [
              "                            employemnt.status    age         country  Java  \\\n",
              "0  Fully employed by a company / organization  21-29         Belarus   NaN   \n",
              "1  Fully employed by a company / organization  40-49     Netherlands  Java   \n",
              "2  Fully employed by a company / organization  30-39          France  Java   \n",
              "3  Fully employed by a company / organization  21-29         Ukraine   NaN   \n",
              "4  Fully employed by a company / organization  21-29  United Kingdom   NaN   \n",
              "5  Fully employed by a company / organization  40-49          Poland   NaN   \n",
              "6                               Self-employed  30-39         Austria   NaN   \n",
              "7                               Self-employed  30-39          Poland   NaN   \n",
              "8  Fully employed by a company / organization  21-29   United States   NaN   \n",
              "9  Fully employed by a company / organization  21-29          Brazil  Java   \n",
              "\n",
              "     C  C++  Python   C#  PHP  JavaScript  Ruby  Kotlin  Swift   Go  \\\n",
              "0  NaN  NaN  Python  NaN  NaN         NaN   NaN     NaN    NaN  NaN   \n",
              "1  NaN  NaN     NaN  NaN  PHP  JavaScript   NaN     NaN    NaN  NaN   \n",
              "2  NaN  NaN     NaN  NaN  NaN  JavaScript   NaN  Kotlin  Swift   Go   \n",
              "3  NaN  NaN     NaN  NaN  PHP  JavaScript   NaN     NaN    NaN  NaN   \n",
              "4  NaN  NaN     NaN   C#  NaN         NaN   NaN  Kotlin    NaN  NaN   \n",
              "5  NaN  NaN     NaN  NaN  PHP  JavaScript   NaN     NaN    NaN  NaN   \n",
              "6  NaN  NaN  Python  NaN  PHP  JavaScript  Ruby     NaN    NaN  NaN   \n",
              "7  NaN  NaN     NaN  NaN  PHP  JavaScript   NaN     NaN    NaN  NaN   \n",
              "8  NaN  NaN  Python  NaN  NaN  JavaScript   NaN     NaN    NaN   Go   \n",
              "9  NaN  NaN  Python  NaN  PHP  JavaScript   NaN     NaN    NaN  NaN   \n",
              "\n",
              "   HTML / CSS    R  Dart  Rust Julia  \n",
              "0         NaN  NaN   NaN   NaN   NaN  \n",
              "1  HTML / CSS  NaN   NaN   NaN   NaN  \n",
              "2  HTML / CSS  NaN  Dart  Rust   NaN  \n",
              "3         NaN  NaN   NaN   NaN   NaN  \n",
              "4         NaN  NaN   NaN   NaN   NaN  \n",
              "5         NaN  NaN   NaN   NaN   NaN  \n",
              "6  HTML / CSS  NaN   NaN   NaN   NaN  \n",
              "7  HTML / CSS  NaN   NaN   NaN   NaN  \n",
              "8  HTML / CSS  NaN  Dart   NaN   NaN  \n",
              "9  HTML / CSS  NaN   NaN   NaN   NaN  "
            ],
            "text/html": [
              "\n",
              "  <div id=\"df-a5706b46-e1ca-41bf-a104-3872839ef2ad\">\n",
              "    <div class=\"colab-df-container\">\n",
              "      <div>\n",
              "<style scoped>\n",
              "    .dataframe tbody tr th:only-of-type {\n",
              "        vertical-align: middle;\n",
              "    }\n",
              "\n",
              "    .dataframe tbody tr th {\n",
              "        vertical-align: top;\n",
              "    }\n",
              "\n",
              "    .dataframe thead th {\n",
              "        text-align: right;\n",
              "    }\n",
              "</style>\n",
              "<table border=\"1\" class=\"dataframe\">\n",
              "  <thead>\n",
              "    <tr style=\"text-align: right;\">\n",
              "      <th></th>\n",
              "      <th>employemnt.status</th>\n",
              "      <th>age</th>\n",
              "      <th>country</th>\n",
              "      <th>Java</th>\n",
              "      <th>C</th>\n",
              "      <th>C++</th>\n",
              "      <th>Python</th>\n",
              "      <th>C#</th>\n",
              "      <th>PHP</th>\n",
              "      <th>JavaScript</th>\n",
              "      <th>Ruby</th>\n",
              "      <th>Kotlin</th>\n",
              "      <th>Swift</th>\n",
              "      <th>Go</th>\n",
              "      <th>HTML / CSS</th>\n",
              "      <th>R</th>\n",
              "      <th>Dart</th>\n",
              "      <th>Rust</th>\n",
              "      <th>Julia</th>\n",
              "    </tr>\n",
              "  </thead>\n",
              "  <tbody>\n",
              "    <tr>\n",
              "      <th>0</th>\n",
              "      <td>Fully employed by a company / organization</td>\n",
              "      <td>21-29</td>\n",
              "      <td>Belarus</td>\n",
              "      <td>NaN</td>\n",
              "      <td>NaN</td>\n",
              "      <td>NaN</td>\n",
              "      <td>Python</td>\n",
              "      <td>NaN</td>\n",
              "      <td>NaN</td>\n",
              "      <td>NaN</td>\n",
              "      <td>NaN</td>\n",
              "      <td>NaN</td>\n",
              "      <td>NaN</td>\n",
              "      <td>NaN</td>\n",
              "      <td>NaN</td>\n",
              "      <td>NaN</td>\n",
              "      <td>NaN</td>\n",
              "      <td>NaN</td>\n",
              "      <td>NaN</td>\n",
              "    </tr>\n",
              "    <tr>\n",
              "      <th>1</th>\n",
              "      <td>Fully employed by a company / organization</td>\n",
              "      <td>40-49</td>\n",
              "      <td>Netherlands</td>\n",
              "      <td>Java</td>\n",
              "      <td>NaN</td>\n",
              "      <td>NaN</td>\n",
              "      <td>NaN</td>\n",
              "      <td>NaN</td>\n",
              "      <td>PHP</td>\n",
              "      <td>JavaScript</td>\n",
              "      <td>NaN</td>\n",
              "      <td>NaN</td>\n",
              "      <td>NaN</td>\n",
              "      <td>NaN</td>\n",
              "      <td>HTML / CSS</td>\n",
              "      <td>NaN</td>\n",
              "      <td>NaN</td>\n",
              "      <td>NaN</td>\n",
              "      <td>NaN</td>\n",
              "    </tr>\n",
              "    <tr>\n",
              "      <th>2</th>\n",
              "      <td>Fully employed by a company / organization</td>\n",
              "      <td>30-39</td>\n",
              "      <td>France</td>\n",
              "      <td>Java</td>\n",
              "      <td>NaN</td>\n",
              "      <td>NaN</td>\n",
              "      <td>NaN</td>\n",
              "      <td>NaN</td>\n",
              "      <td>NaN</td>\n",
              "      <td>JavaScript</td>\n",
              "      <td>NaN</td>\n",
              "      <td>Kotlin</td>\n",
              "      <td>Swift</td>\n",
              "      <td>Go</td>\n",
              "      <td>HTML / CSS</td>\n",
              "      <td>NaN</td>\n",
              "      <td>Dart</td>\n",
              "      <td>Rust</td>\n",
              "      <td>NaN</td>\n",
              "    </tr>\n",
              "    <tr>\n",
              "      <th>3</th>\n",
              "      <td>Fully employed by a company / organization</td>\n",
              "      <td>21-29</td>\n",
              "      <td>Ukraine</td>\n",
              "      <td>NaN</td>\n",
              "      <td>NaN</td>\n",
              "      <td>NaN</td>\n",
              "      <td>NaN</td>\n",
              "      <td>NaN</td>\n",
              "      <td>PHP</td>\n",
              "      <td>JavaScript</td>\n",
              "      <td>NaN</td>\n",
              "      <td>NaN</td>\n",
              "      <td>NaN</td>\n",
              "      <td>NaN</td>\n",
              "      <td>NaN</td>\n",
              "      <td>NaN</td>\n",
              "      <td>NaN</td>\n",
              "      <td>NaN</td>\n",
              "      <td>NaN</td>\n",
              "    </tr>\n",
              "    <tr>\n",
              "      <th>4</th>\n",
              "      <td>Fully employed by a company / organization</td>\n",
              "      <td>21-29</td>\n",
              "      <td>United Kingdom</td>\n",
              "      <td>NaN</td>\n",
              "      <td>NaN</td>\n",
              "      <td>NaN</td>\n",
              "      <td>NaN</td>\n",
              "      <td>C#</td>\n",
              "      <td>NaN</td>\n",
              "      <td>NaN</td>\n",
              "      <td>NaN</td>\n",
              "      <td>Kotlin</td>\n",
              "      <td>NaN</td>\n",
              "      <td>NaN</td>\n",
              "      <td>NaN</td>\n",
              "      <td>NaN</td>\n",
              "      <td>NaN</td>\n",
              "      <td>NaN</td>\n",
              "      <td>NaN</td>\n",
              "    </tr>\n",
              "    <tr>\n",
              "      <th>5</th>\n",
              "      <td>Fully employed by a company / organization</td>\n",
              "      <td>40-49</td>\n",
              "      <td>Poland</td>\n",
              "      <td>NaN</td>\n",
              "      <td>NaN</td>\n",
              "      <td>NaN</td>\n",
              "      <td>NaN</td>\n",
              "      <td>NaN</td>\n",
              "      <td>PHP</td>\n",
              "      <td>JavaScript</td>\n",
              "      <td>NaN</td>\n",
              "      <td>NaN</td>\n",
              "      <td>NaN</td>\n",
              "      <td>NaN</td>\n",
              "      <td>NaN</td>\n",
              "      <td>NaN</td>\n",
              "      <td>NaN</td>\n",
              "      <td>NaN</td>\n",
              "      <td>NaN</td>\n",
              "    </tr>\n",
              "    <tr>\n",
              "      <th>6</th>\n",
              "      <td>Self-employed</td>\n",
              "      <td>30-39</td>\n",
              "      <td>Austria</td>\n",
              "      <td>NaN</td>\n",
              "      <td>NaN</td>\n",
              "      <td>NaN</td>\n",
              "      <td>Python</td>\n",
              "      <td>NaN</td>\n",
              "      <td>PHP</td>\n",
              "      <td>JavaScript</td>\n",
              "      <td>Ruby</td>\n",
              "      <td>NaN</td>\n",
              "      <td>NaN</td>\n",
              "      <td>NaN</td>\n",
              "      <td>HTML / CSS</td>\n",
              "      <td>NaN</td>\n",
              "      <td>NaN</td>\n",
              "      <td>NaN</td>\n",
              "      <td>NaN</td>\n",
              "    </tr>\n",
              "    <tr>\n",
              "      <th>7</th>\n",
              "      <td>Self-employed</td>\n",
              "      <td>30-39</td>\n",
              "      <td>Poland</td>\n",
              "      <td>NaN</td>\n",
              "      <td>NaN</td>\n",
              "      <td>NaN</td>\n",
              "      <td>NaN</td>\n",
              "      <td>NaN</td>\n",
              "      <td>PHP</td>\n",
              "      <td>JavaScript</td>\n",
              "      <td>NaN</td>\n",
              "      <td>NaN</td>\n",
              "      <td>NaN</td>\n",
              "      <td>NaN</td>\n",
              "      <td>HTML / CSS</td>\n",
              "      <td>NaN</td>\n",
              "      <td>NaN</td>\n",
              "      <td>NaN</td>\n",
              "      <td>NaN</td>\n",
              "    </tr>\n",
              "    <tr>\n",
              "      <th>8</th>\n",
              "      <td>Fully employed by a company / organization</td>\n",
              "      <td>21-29</td>\n",
              "      <td>United States</td>\n",
              "      <td>NaN</td>\n",
              "      <td>NaN</td>\n",
              "      <td>NaN</td>\n",
              "      <td>Python</td>\n",
              "      <td>NaN</td>\n",
              "      <td>NaN</td>\n",
              "      <td>JavaScript</td>\n",
              "      <td>NaN</td>\n",
              "      <td>NaN</td>\n",
              "      <td>NaN</td>\n",
              "      <td>Go</td>\n",
              "      <td>HTML / CSS</td>\n",
              "      <td>NaN</td>\n",
              "      <td>Dart</td>\n",
              "      <td>NaN</td>\n",
              "      <td>NaN</td>\n",
              "    </tr>\n",
              "    <tr>\n",
              "      <th>9</th>\n",
              "      <td>Fully employed by a company / organization</td>\n",
              "      <td>21-29</td>\n",
              "      <td>Brazil</td>\n",
              "      <td>Java</td>\n",
              "      <td>NaN</td>\n",
              "      <td>NaN</td>\n",
              "      <td>Python</td>\n",
              "      <td>NaN</td>\n",
              "      <td>PHP</td>\n",
              "      <td>JavaScript</td>\n",
              "      <td>NaN</td>\n",
              "      <td>NaN</td>\n",
              "      <td>NaN</td>\n",
              "      <td>NaN</td>\n",
              "      <td>HTML / CSS</td>\n",
              "      <td>NaN</td>\n",
              "      <td>NaN</td>\n",
              "      <td>NaN</td>\n",
              "      <td>NaN</td>\n",
              "    </tr>\n",
              "  </tbody>\n",
              "</table>\n",
              "</div>\n",
              "      <button class=\"colab-df-convert\" onclick=\"convertToInteractive('df-a5706b46-e1ca-41bf-a104-3872839ef2ad')\"\n",
              "              title=\"Convert this dataframe to an interactive table.\"\n",
              "              style=\"display:none;\">\n",
              "        \n",
              "  <svg xmlns=\"http://www.w3.org/2000/svg\" height=\"24px\"viewBox=\"0 0 24 24\"\n",
              "       width=\"24px\">\n",
              "    <path d=\"M0 0h24v24H0V0z\" fill=\"none\"/>\n",
              "    <path d=\"M18.56 5.44l.94 2.06.94-2.06 2.06-.94-2.06-.94-.94-2.06-.94 2.06-2.06.94zm-11 1L8.5 8.5l.94-2.06 2.06-.94-2.06-.94L8.5 2.5l-.94 2.06-2.06.94zm10 10l.94 2.06.94-2.06 2.06-.94-2.06-.94-.94-2.06-.94 2.06-2.06.94z\"/><path d=\"M17.41 7.96l-1.37-1.37c-.4-.4-.92-.59-1.43-.59-.52 0-1.04.2-1.43.59L10.3 9.45l-7.72 7.72c-.78.78-.78 2.05 0 2.83L4 21.41c.39.39.9.59 1.41.59.51 0 1.02-.2 1.41-.59l7.78-7.78 2.81-2.81c.8-.78.8-2.07 0-2.86zM5.41 20L4 18.59l7.72-7.72 1.47 1.35L5.41 20z\"/>\n",
              "  </svg>\n",
              "      </button>\n",
              "      \n",
              "  <style>\n",
              "    .colab-df-container {\n",
              "      display:flex;\n",
              "      flex-wrap:wrap;\n",
              "      gap: 12px;\n",
              "    }\n",
              "\n",
              "    .colab-df-convert {\n",
              "      background-color: #E8F0FE;\n",
              "      border: none;\n",
              "      border-radius: 50%;\n",
              "      cursor: pointer;\n",
              "      display: none;\n",
              "      fill: #1967D2;\n",
              "      height: 32px;\n",
              "      padding: 0 0 0 0;\n",
              "      width: 32px;\n",
              "    }\n",
              "\n",
              "    .colab-df-convert:hover {\n",
              "      background-color: #E2EBFA;\n",
              "      box-shadow: 0px 1px 2px rgba(60, 64, 67, 0.3), 0px 1px 3px 1px rgba(60, 64, 67, 0.15);\n",
              "      fill: #174EA6;\n",
              "    }\n",
              "\n",
              "    [theme=dark] .colab-df-convert {\n",
              "      background-color: #3B4455;\n",
              "      fill: #D2E3FC;\n",
              "    }\n",
              "\n",
              "    [theme=dark] .colab-df-convert:hover {\n",
              "      background-color: #434B5C;\n",
              "      box-shadow: 0px 1px 3px 1px rgba(0, 0, 0, 0.15);\n",
              "      filter: drop-shadow(0px 1px 2px rgba(0, 0, 0, 0.3));\n",
              "      fill: #FFFFFF;\n",
              "    }\n",
              "  </style>\n",
              "\n",
              "      <script>\n",
              "        const buttonEl =\n",
              "          document.querySelector('#df-a5706b46-e1ca-41bf-a104-3872839ef2ad button.colab-df-convert');\n",
              "        buttonEl.style.display =\n",
              "          google.colab.kernel.accessAllowed ? 'block' : 'none';\n",
              "\n",
              "        async function convertToInteractive(key) {\n",
              "          const element = document.querySelector('#df-a5706b46-e1ca-41bf-a104-3872839ef2ad');\n",
              "          const dataTable =\n",
              "            await google.colab.kernel.invokeFunction('convertToInteractive',\n",
              "                                                     [key], {});\n",
              "          if (!dataTable) return;\n",
              "\n",
              "          const docLinkHtml = 'Like what you see? Visit the ' +\n",
              "            '<a target=\"_blank\" href=https://colab.research.google.com/notebooks/data_table.ipynb>data table notebook</a>'\n",
              "            + ' to learn more about interactive tables.';\n",
              "          element.innerHTML = '';\n",
              "          dataTable['output_type'] = 'display_data';\n",
              "          await google.colab.output.renderOutput(dataTable, element);\n",
              "          const docLink = document.createElement('div');\n",
              "          docLink.innerHTML = docLinkHtml;\n",
              "          element.appendChild(docLink);\n",
              "        }\n",
              "      </script>\n",
              "    </div>\n",
              "  </div>\n",
              "  "
            ]
          },
          "metadata": {},
          "execution_count": 6
        }
      ]
    },
    {
      "cell_type": "markdown",
      "source": [
        "As we can see above columns are having string values if any programming language skill is possessed by the person. We shall change this into numerical data."
      ],
      "metadata": {
        "id": "hIGz_CH8X3T5"
      }
    },
    {
      "cell_type": "code",
      "source": [
        "df = df.fillna(0)"
      ],
      "metadata": {
        "id": "BGn4ccahX4mf"
      },
      "execution_count": 8,
      "outputs": []
    },
    {
      "cell_type": "code",
      "source": [
        "for col in df.columns:\n",
        "    df = df.replace(col , 1)"
      ],
      "metadata": {
        "id": "eOEU5aDUX9yj"
      },
      "execution_count": 9,
      "outputs": []
    },
    {
      "cell_type": "code",
      "source": [
        "df.head(20)"
      ],
      "metadata": {
        "colab": {
          "base_uri": "https://localhost:8080/",
          "height": 1000
        },
        "id": "YddYodw_YA-x",
        "outputId": "8f4f3cb9-2ead-467d-d368-722a64e7a548"
      },
      "execution_count": 10,
      "outputs": [
        {
          "output_type": "execute_result",
          "data": {
            "text/plain": [
              "                             employemnt.status    age         country  Java  \\\n",
              "0   Fully employed by a company / organization  21-29         Belarus     0   \n",
              "1   Fully employed by a company / organization  40-49     Netherlands     1   \n",
              "2   Fully employed by a company / organization  30-39          France     1   \n",
              "3   Fully employed by a company / organization  21-29         Ukraine     0   \n",
              "4   Fully employed by a company / organization  21-29  United Kingdom     0   \n",
              "5   Fully employed by a company / organization  40-49          Poland     0   \n",
              "6                                Self-employed  30-39         Austria     0   \n",
              "7                                Self-employed  30-39          Poland     0   \n",
              "8   Fully employed by a company / organization  21-29   United States     0   \n",
              "9   Fully employed by a company / organization  21-29          Brazil     1   \n",
              "10  Fully employed by a company / organization  21-29           Japan     1   \n",
              "11                                  Freelancer  30-39           Spain     1   \n",
              "12                                  Freelancer  40-49  United Kingdom     0   \n",
              "13  Fully employed by a company / organization  21-29          Poland     1   \n",
              "14  Fully employed by a company / organization  30-39          Canada     0   \n",
              "15  Fully employed by a company / organization  40-49     Switzerland     1   \n",
              "16  Fully employed by a company / organization  30-39         Hungary     0   \n",
              "17                                  Freelancer  40-49  United Kingdom     0   \n",
              "18                                     Student  21-29          Russia     1   \n",
              "19  Fully employed by a company / organization  21-29          Canada     1   \n",
              "\n",
              "    C  C++  Python  C#  PHP  JavaScript  Ruby  Kotlin  Swift  Go  HTML / CSS  \\\n",
              "0   0    0       1   0    0           0     0       0      0   0           0   \n",
              "1   0    0       0   0    1           1     0       0      0   0           1   \n",
              "2   0    0       0   0    0           1     0       1      1   1           1   \n",
              "3   0    0       0   0    1           1     0       0      0   0           0   \n",
              "4   0    0       0   1    0           0     0       1      0   0           0   \n",
              "5   0    0       0   0    1           1     0       0      0   0           0   \n",
              "6   0    0       1   0    1           1     1       0      0   0           1   \n",
              "7   0    0       0   0    1           1     0       0      0   0           1   \n",
              "8   0    0       1   0    0           1     0       0      0   1           1   \n",
              "9   0    0       1   0    1           1     0       0      0   0           1   \n",
              "10  0    0       0   0    0           0     0       0      0   0           0   \n",
              "11  0    0       1   0    0           1     0       0      1   0           1   \n",
              "12  0    0       1   0    0           0     0       0      1   1           0   \n",
              "13  0    0       1   0    0           1     0       1      0   0           1   \n",
              "14  0    0       0   1    0           1     0       0      0   0           0   \n",
              "15  1    1       0   0    0           1     0       1      1   0           1   \n",
              "16  0    0       0   0    0           0     0       0      0   0           0   \n",
              "17  0    0       0   1    0           1     0       0      1   0           1   \n",
              "18  0    0       1   0    0           0     1       1      0   0           0   \n",
              "19  0    0       0   0    0           1     0       0      0   0           0   \n",
              "\n",
              "    R  Dart  Rust  Julia  \n",
              "0   0     0     0      0  \n",
              "1   0     0     0      0  \n",
              "2   0     1     1      0  \n",
              "3   0     0     0      0  \n",
              "4   0     0     0      0  \n",
              "5   0     0     0      0  \n",
              "6   0     0     0      0  \n",
              "7   0     0     0      0  \n",
              "8   0     1     0      0  \n",
              "9   0     0     0      0  \n",
              "10  0     0     0      0  \n",
              "11  0     0     0      0  \n",
              "12  0     0     0      0  \n",
              "13  0     0     0      0  \n",
              "14  0     0     0      0  \n",
              "15  0     0     0      0  \n",
              "16  0     0     0      0  \n",
              "17  0     0     0      0  \n",
              "18  0     1     0      0  \n",
              "19  0     0     1      0  "
            ],
            "text/html": [
              "\n",
              "  <div id=\"df-786cadd0-0240-41c7-9b01-de015db7a448\">\n",
              "    <div class=\"colab-df-container\">\n",
              "      <div>\n",
              "<style scoped>\n",
              "    .dataframe tbody tr th:only-of-type {\n",
              "        vertical-align: middle;\n",
              "    }\n",
              "\n",
              "    .dataframe tbody tr th {\n",
              "        vertical-align: top;\n",
              "    }\n",
              "\n",
              "    .dataframe thead th {\n",
              "        text-align: right;\n",
              "    }\n",
              "</style>\n",
              "<table border=\"1\" class=\"dataframe\">\n",
              "  <thead>\n",
              "    <tr style=\"text-align: right;\">\n",
              "      <th></th>\n",
              "      <th>employemnt.status</th>\n",
              "      <th>age</th>\n",
              "      <th>country</th>\n",
              "      <th>Java</th>\n",
              "      <th>C</th>\n",
              "      <th>C++</th>\n",
              "      <th>Python</th>\n",
              "      <th>C#</th>\n",
              "      <th>PHP</th>\n",
              "      <th>JavaScript</th>\n",
              "      <th>Ruby</th>\n",
              "      <th>Kotlin</th>\n",
              "      <th>Swift</th>\n",
              "      <th>Go</th>\n",
              "      <th>HTML / CSS</th>\n",
              "      <th>R</th>\n",
              "      <th>Dart</th>\n",
              "      <th>Rust</th>\n",
              "      <th>Julia</th>\n",
              "    </tr>\n",
              "  </thead>\n",
              "  <tbody>\n",
              "    <tr>\n",
              "      <th>0</th>\n",
              "      <td>Fully employed by a company / organization</td>\n",
              "      <td>21-29</td>\n",
              "      <td>Belarus</td>\n",
              "      <td>0</td>\n",
              "      <td>0</td>\n",
              "      <td>0</td>\n",
              "      <td>1</td>\n",
              "      <td>0</td>\n",
              "      <td>0</td>\n",
              "      <td>0</td>\n",
              "      <td>0</td>\n",
              "      <td>0</td>\n",
              "      <td>0</td>\n",
              "      <td>0</td>\n",
              "      <td>0</td>\n",
              "      <td>0</td>\n",
              "      <td>0</td>\n",
              "      <td>0</td>\n",
              "      <td>0</td>\n",
              "    </tr>\n",
              "    <tr>\n",
              "      <th>1</th>\n",
              "      <td>Fully employed by a company / organization</td>\n",
              "      <td>40-49</td>\n",
              "      <td>Netherlands</td>\n",
              "      <td>1</td>\n",
              "      <td>0</td>\n",
              "      <td>0</td>\n",
              "      <td>0</td>\n",
              "      <td>0</td>\n",
              "      <td>1</td>\n",
              "      <td>1</td>\n",
              "      <td>0</td>\n",
              "      <td>0</td>\n",
              "      <td>0</td>\n",
              "      <td>0</td>\n",
              "      <td>1</td>\n",
              "      <td>0</td>\n",
              "      <td>0</td>\n",
              "      <td>0</td>\n",
              "      <td>0</td>\n",
              "    </tr>\n",
              "    <tr>\n",
              "      <th>2</th>\n",
              "      <td>Fully employed by a company / organization</td>\n",
              "      <td>30-39</td>\n",
              "      <td>France</td>\n",
              "      <td>1</td>\n",
              "      <td>0</td>\n",
              "      <td>0</td>\n",
              "      <td>0</td>\n",
              "      <td>0</td>\n",
              "      <td>0</td>\n",
              "      <td>1</td>\n",
              "      <td>0</td>\n",
              "      <td>1</td>\n",
              "      <td>1</td>\n",
              "      <td>1</td>\n",
              "      <td>1</td>\n",
              "      <td>0</td>\n",
              "      <td>1</td>\n",
              "      <td>1</td>\n",
              "      <td>0</td>\n",
              "    </tr>\n",
              "    <tr>\n",
              "      <th>3</th>\n",
              "      <td>Fully employed by a company / organization</td>\n",
              "      <td>21-29</td>\n",
              "      <td>Ukraine</td>\n",
              "      <td>0</td>\n",
              "      <td>0</td>\n",
              "      <td>0</td>\n",
              "      <td>0</td>\n",
              "      <td>0</td>\n",
              "      <td>1</td>\n",
              "      <td>1</td>\n",
              "      <td>0</td>\n",
              "      <td>0</td>\n",
              "      <td>0</td>\n",
              "      <td>0</td>\n",
              "      <td>0</td>\n",
              "      <td>0</td>\n",
              "      <td>0</td>\n",
              "      <td>0</td>\n",
              "      <td>0</td>\n",
              "    </tr>\n",
              "    <tr>\n",
              "      <th>4</th>\n",
              "      <td>Fully employed by a company / organization</td>\n",
              "      <td>21-29</td>\n",
              "      <td>United Kingdom</td>\n",
              "      <td>0</td>\n",
              "      <td>0</td>\n",
              "      <td>0</td>\n",
              "      <td>0</td>\n",
              "      <td>1</td>\n",
              "      <td>0</td>\n",
              "      <td>0</td>\n",
              "      <td>0</td>\n",
              "      <td>1</td>\n",
              "      <td>0</td>\n",
              "      <td>0</td>\n",
              "      <td>0</td>\n",
              "      <td>0</td>\n",
              "      <td>0</td>\n",
              "      <td>0</td>\n",
              "      <td>0</td>\n",
              "    </tr>\n",
              "    <tr>\n",
              "      <th>5</th>\n",
              "      <td>Fully employed by a company / organization</td>\n",
              "      <td>40-49</td>\n",
              "      <td>Poland</td>\n",
              "      <td>0</td>\n",
              "      <td>0</td>\n",
              "      <td>0</td>\n",
              "      <td>0</td>\n",
              "      <td>0</td>\n",
              "      <td>1</td>\n",
              "      <td>1</td>\n",
              "      <td>0</td>\n",
              "      <td>0</td>\n",
              "      <td>0</td>\n",
              "      <td>0</td>\n",
              "      <td>0</td>\n",
              "      <td>0</td>\n",
              "      <td>0</td>\n",
              "      <td>0</td>\n",
              "      <td>0</td>\n",
              "    </tr>\n",
              "    <tr>\n",
              "      <th>6</th>\n",
              "      <td>Self-employed</td>\n",
              "      <td>30-39</td>\n",
              "      <td>Austria</td>\n",
              "      <td>0</td>\n",
              "      <td>0</td>\n",
              "      <td>0</td>\n",
              "      <td>1</td>\n",
              "      <td>0</td>\n",
              "      <td>1</td>\n",
              "      <td>1</td>\n",
              "      <td>1</td>\n",
              "      <td>0</td>\n",
              "      <td>0</td>\n",
              "      <td>0</td>\n",
              "      <td>1</td>\n",
              "      <td>0</td>\n",
              "      <td>0</td>\n",
              "      <td>0</td>\n",
              "      <td>0</td>\n",
              "    </tr>\n",
              "    <tr>\n",
              "      <th>7</th>\n",
              "      <td>Self-employed</td>\n",
              "      <td>30-39</td>\n",
              "      <td>Poland</td>\n",
              "      <td>0</td>\n",
              "      <td>0</td>\n",
              "      <td>0</td>\n",
              "      <td>0</td>\n",
              "      <td>0</td>\n",
              "      <td>1</td>\n",
              "      <td>1</td>\n",
              "      <td>0</td>\n",
              "      <td>0</td>\n",
              "      <td>0</td>\n",
              "      <td>0</td>\n",
              "      <td>1</td>\n",
              "      <td>0</td>\n",
              "      <td>0</td>\n",
              "      <td>0</td>\n",
              "      <td>0</td>\n",
              "    </tr>\n",
              "    <tr>\n",
              "      <th>8</th>\n",
              "      <td>Fully employed by a company / organization</td>\n",
              "      <td>21-29</td>\n",
              "      <td>United States</td>\n",
              "      <td>0</td>\n",
              "      <td>0</td>\n",
              "      <td>0</td>\n",
              "      <td>1</td>\n",
              "      <td>0</td>\n",
              "      <td>0</td>\n",
              "      <td>1</td>\n",
              "      <td>0</td>\n",
              "      <td>0</td>\n",
              "      <td>0</td>\n",
              "      <td>1</td>\n",
              "      <td>1</td>\n",
              "      <td>0</td>\n",
              "      <td>1</td>\n",
              "      <td>0</td>\n",
              "      <td>0</td>\n",
              "    </tr>\n",
              "    <tr>\n",
              "      <th>9</th>\n",
              "      <td>Fully employed by a company / organization</td>\n",
              "      <td>21-29</td>\n",
              "      <td>Brazil</td>\n",
              "      <td>1</td>\n",
              "      <td>0</td>\n",
              "      <td>0</td>\n",
              "      <td>1</td>\n",
              "      <td>0</td>\n",
              "      <td>1</td>\n",
              "      <td>1</td>\n",
              "      <td>0</td>\n",
              "      <td>0</td>\n",
              "      <td>0</td>\n",
              "      <td>0</td>\n",
              "      <td>1</td>\n",
              "      <td>0</td>\n",
              "      <td>0</td>\n",
              "      <td>0</td>\n",
              "      <td>0</td>\n",
              "    </tr>\n",
              "    <tr>\n",
              "      <th>10</th>\n",
              "      <td>Fully employed by a company / organization</td>\n",
              "      <td>21-29</td>\n",
              "      <td>Japan</td>\n",
              "      <td>1</td>\n",
              "      <td>0</td>\n",
              "      <td>0</td>\n",
              "      <td>0</td>\n",
              "      <td>0</td>\n",
              "      <td>0</td>\n",
              "      <td>0</td>\n",
              "      <td>0</td>\n",
              "      <td>0</td>\n",
              "      <td>0</td>\n",
              "      <td>0</td>\n",
              "      <td>0</td>\n",
              "      <td>0</td>\n",
              "      <td>0</td>\n",
              "      <td>0</td>\n",
              "      <td>0</td>\n",
              "    </tr>\n",
              "    <tr>\n",
              "      <th>11</th>\n",
              "      <td>Freelancer</td>\n",
              "      <td>30-39</td>\n",
              "      <td>Spain</td>\n",
              "      <td>1</td>\n",
              "      <td>0</td>\n",
              "      <td>0</td>\n",
              "      <td>1</td>\n",
              "      <td>0</td>\n",
              "      <td>0</td>\n",
              "      <td>1</td>\n",
              "      <td>0</td>\n",
              "      <td>0</td>\n",
              "      <td>1</td>\n",
              "      <td>0</td>\n",
              "      <td>1</td>\n",
              "      <td>0</td>\n",
              "      <td>0</td>\n",
              "      <td>0</td>\n",
              "      <td>0</td>\n",
              "    </tr>\n",
              "    <tr>\n",
              "      <th>12</th>\n",
              "      <td>Freelancer</td>\n",
              "      <td>40-49</td>\n",
              "      <td>United Kingdom</td>\n",
              "      <td>0</td>\n",
              "      <td>0</td>\n",
              "      <td>0</td>\n",
              "      <td>1</td>\n",
              "      <td>0</td>\n",
              "      <td>0</td>\n",
              "      <td>0</td>\n",
              "      <td>0</td>\n",
              "      <td>0</td>\n",
              "      <td>1</td>\n",
              "      <td>1</td>\n",
              "      <td>0</td>\n",
              "      <td>0</td>\n",
              "      <td>0</td>\n",
              "      <td>0</td>\n",
              "      <td>0</td>\n",
              "    </tr>\n",
              "    <tr>\n",
              "      <th>13</th>\n",
              "      <td>Fully employed by a company / organization</td>\n",
              "      <td>21-29</td>\n",
              "      <td>Poland</td>\n",
              "      <td>1</td>\n",
              "      <td>0</td>\n",
              "      <td>0</td>\n",
              "      <td>1</td>\n",
              "      <td>0</td>\n",
              "      <td>0</td>\n",
              "      <td>1</td>\n",
              "      <td>0</td>\n",
              "      <td>1</td>\n",
              "      <td>0</td>\n",
              "      <td>0</td>\n",
              "      <td>1</td>\n",
              "      <td>0</td>\n",
              "      <td>0</td>\n",
              "      <td>0</td>\n",
              "      <td>0</td>\n",
              "    </tr>\n",
              "    <tr>\n",
              "      <th>14</th>\n",
              "      <td>Fully employed by a company / organization</td>\n",
              "      <td>30-39</td>\n",
              "      <td>Canada</td>\n",
              "      <td>0</td>\n",
              "      <td>0</td>\n",
              "      <td>0</td>\n",
              "      <td>0</td>\n",
              "      <td>1</td>\n",
              "      <td>0</td>\n",
              "      <td>1</td>\n",
              "      <td>0</td>\n",
              "      <td>0</td>\n",
              "      <td>0</td>\n",
              "      <td>0</td>\n",
              "      <td>0</td>\n",
              "      <td>0</td>\n",
              "      <td>0</td>\n",
              "      <td>0</td>\n",
              "      <td>0</td>\n",
              "    </tr>\n",
              "    <tr>\n",
              "      <th>15</th>\n",
              "      <td>Fully employed by a company / organization</td>\n",
              "      <td>40-49</td>\n",
              "      <td>Switzerland</td>\n",
              "      <td>1</td>\n",
              "      <td>1</td>\n",
              "      <td>1</td>\n",
              "      <td>0</td>\n",
              "      <td>0</td>\n",
              "      <td>0</td>\n",
              "      <td>1</td>\n",
              "      <td>0</td>\n",
              "      <td>1</td>\n",
              "      <td>1</td>\n",
              "      <td>0</td>\n",
              "      <td>1</td>\n",
              "      <td>0</td>\n",
              "      <td>0</td>\n",
              "      <td>0</td>\n",
              "      <td>0</td>\n",
              "    </tr>\n",
              "    <tr>\n",
              "      <th>16</th>\n",
              "      <td>Fully employed by a company / organization</td>\n",
              "      <td>30-39</td>\n",
              "      <td>Hungary</td>\n",
              "      <td>0</td>\n",
              "      <td>0</td>\n",
              "      <td>0</td>\n",
              "      <td>0</td>\n",
              "      <td>0</td>\n",
              "      <td>0</td>\n",
              "      <td>0</td>\n",
              "      <td>0</td>\n",
              "      <td>0</td>\n",
              "      <td>0</td>\n",
              "      <td>0</td>\n",
              "      <td>0</td>\n",
              "      <td>0</td>\n",
              "      <td>0</td>\n",
              "      <td>0</td>\n",
              "      <td>0</td>\n",
              "    </tr>\n",
              "    <tr>\n",
              "      <th>17</th>\n",
              "      <td>Freelancer</td>\n",
              "      <td>40-49</td>\n",
              "      <td>United Kingdom</td>\n",
              "      <td>0</td>\n",
              "      <td>0</td>\n",
              "      <td>0</td>\n",
              "      <td>0</td>\n",
              "      <td>1</td>\n",
              "      <td>0</td>\n",
              "      <td>1</td>\n",
              "      <td>0</td>\n",
              "      <td>0</td>\n",
              "      <td>1</td>\n",
              "      <td>0</td>\n",
              "      <td>1</td>\n",
              "      <td>0</td>\n",
              "      <td>0</td>\n",
              "      <td>0</td>\n",
              "      <td>0</td>\n",
              "    </tr>\n",
              "    <tr>\n",
              "      <th>18</th>\n",
              "      <td>Student</td>\n",
              "      <td>21-29</td>\n",
              "      <td>Russia</td>\n",
              "      <td>1</td>\n",
              "      <td>0</td>\n",
              "      <td>0</td>\n",
              "      <td>1</td>\n",
              "      <td>0</td>\n",
              "      <td>0</td>\n",
              "      <td>0</td>\n",
              "      <td>1</td>\n",
              "      <td>1</td>\n",
              "      <td>0</td>\n",
              "      <td>0</td>\n",
              "      <td>0</td>\n",
              "      <td>0</td>\n",
              "      <td>1</td>\n",
              "      <td>0</td>\n",
              "      <td>0</td>\n",
              "    </tr>\n",
              "    <tr>\n",
              "      <th>19</th>\n",
              "      <td>Fully employed by a company / organization</td>\n",
              "      <td>21-29</td>\n",
              "      <td>Canada</td>\n",
              "      <td>1</td>\n",
              "      <td>0</td>\n",
              "      <td>0</td>\n",
              "      <td>0</td>\n",
              "      <td>0</td>\n",
              "      <td>0</td>\n",
              "      <td>1</td>\n",
              "      <td>0</td>\n",
              "      <td>0</td>\n",
              "      <td>0</td>\n",
              "      <td>0</td>\n",
              "      <td>0</td>\n",
              "      <td>0</td>\n",
              "      <td>0</td>\n",
              "      <td>1</td>\n",
              "      <td>0</td>\n",
              "    </tr>\n",
              "  </tbody>\n",
              "</table>\n",
              "</div>\n",
              "      <button class=\"colab-df-convert\" onclick=\"convertToInteractive('df-786cadd0-0240-41c7-9b01-de015db7a448')\"\n",
              "              title=\"Convert this dataframe to an interactive table.\"\n",
              "              style=\"display:none;\">\n",
              "        \n",
              "  <svg xmlns=\"http://www.w3.org/2000/svg\" height=\"24px\"viewBox=\"0 0 24 24\"\n",
              "       width=\"24px\">\n",
              "    <path d=\"M0 0h24v24H0V0z\" fill=\"none\"/>\n",
              "    <path d=\"M18.56 5.44l.94 2.06.94-2.06 2.06-.94-2.06-.94-.94-2.06-.94 2.06-2.06.94zm-11 1L8.5 8.5l.94-2.06 2.06-.94-2.06-.94L8.5 2.5l-.94 2.06-2.06.94zm10 10l.94 2.06.94-2.06 2.06-.94-2.06-.94-.94-2.06-.94 2.06-2.06.94z\"/><path d=\"M17.41 7.96l-1.37-1.37c-.4-.4-.92-.59-1.43-.59-.52 0-1.04.2-1.43.59L10.3 9.45l-7.72 7.72c-.78.78-.78 2.05 0 2.83L4 21.41c.39.39.9.59 1.41.59.51 0 1.02-.2 1.41-.59l7.78-7.78 2.81-2.81c.8-.78.8-2.07 0-2.86zM5.41 20L4 18.59l7.72-7.72 1.47 1.35L5.41 20z\"/>\n",
              "  </svg>\n",
              "      </button>\n",
              "      \n",
              "  <style>\n",
              "    .colab-df-container {\n",
              "      display:flex;\n",
              "      flex-wrap:wrap;\n",
              "      gap: 12px;\n",
              "    }\n",
              "\n",
              "    .colab-df-convert {\n",
              "      background-color: #E8F0FE;\n",
              "      border: none;\n",
              "      border-radius: 50%;\n",
              "      cursor: pointer;\n",
              "      display: none;\n",
              "      fill: #1967D2;\n",
              "      height: 32px;\n",
              "      padding: 0 0 0 0;\n",
              "      width: 32px;\n",
              "    }\n",
              "\n",
              "    .colab-df-convert:hover {\n",
              "      background-color: #E2EBFA;\n",
              "      box-shadow: 0px 1px 2px rgba(60, 64, 67, 0.3), 0px 1px 3px 1px rgba(60, 64, 67, 0.15);\n",
              "      fill: #174EA6;\n",
              "    }\n",
              "\n",
              "    [theme=dark] .colab-df-convert {\n",
              "      background-color: #3B4455;\n",
              "      fill: #D2E3FC;\n",
              "    }\n",
              "\n",
              "    [theme=dark] .colab-df-convert:hover {\n",
              "      background-color: #434B5C;\n",
              "      box-shadow: 0px 1px 3px 1px rgba(0, 0, 0, 0.15);\n",
              "      filter: drop-shadow(0px 1px 2px rgba(0, 0, 0, 0.3));\n",
              "      fill: #FFFFFF;\n",
              "    }\n",
              "  </style>\n",
              "\n",
              "      <script>\n",
              "        const buttonEl =\n",
              "          document.querySelector('#df-786cadd0-0240-41c7-9b01-de015db7a448 button.colab-df-convert');\n",
              "        buttonEl.style.display =\n",
              "          google.colab.kernel.accessAllowed ? 'block' : 'none';\n",
              "\n",
              "        async function convertToInteractive(key) {\n",
              "          const element = document.querySelector('#df-786cadd0-0240-41c7-9b01-de015db7a448');\n",
              "          const dataTable =\n",
              "            await google.colab.kernel.invokeFunction('convertToInteractive',\n",
              "                                                     [key], {});\n",
              "          if (!dataTable) return;\n",
              "\n",
              "          const docLinkHtml = 'Like what you see? Visit the ' +\n",
              "            '<a target=\"_blank\" href=https://colab.research.google.com/notebooks/data_table.ipynb>data table notebook</a>'\n",
              "            + ' to learn more about interactive tables.';\n",
              "          element.innerHTML = '';\n",
              "          dataTable['output_type'] = 'display_data';\n",
              "          await google.colab.output.renderOutput(dataTable, element);\n",
              "          const docLink = document.createElement('div');\n",
              "          docLink.innerHTML = docLinkHtml;\n",
              "          element.appendChild(docLink);\n",
              "        }\n",
              "      </script>\n",
              "    </div>\n",
              "  </div>\n",
              "  "
            ]
          },
          "metadata": {},
          "execution_count": 10
        }
      ]
    },
    {
      "cell_type": "markdown",
      "source": [
        "# Exploratory Analysis and Visualization"
      ],
      "metadata": {
        "id": "djYXyK9SYWiC"
      }
    },
    {
      "cell_type": "markdown",
      "source": [
        "In this part we shall have some visual graphs to look at the trends and frequencies of the datasets.\n",
        "\n",
        "Let's begin by importingmatplotlib.pyplot and seaborn."
      ],
      "metadata": {
        "id": "jiN1o6dNYY8b"
      }
    },
    {
      "cell_type": "code",
      "source": [
        "import seaborn as sns\n",
        "import matplotlib\n",
        "import matplotlib.pyplot as plt\n",
        "%matplotlib inline\n",
        "\n",
        "sns.set_style('darkgrid')\n",
        "matplotlib.rcParams['font.size'] = 14\n",
        "matplotlib.rcParams['figure.figsize'] = (9, 5)\n",
        "matplotlib.rcParams['figure.facecolor'] = '#00000000'"
      ],
      "metadata": {
        "id": "DynpkaKzYDoO"
      },
      "execution_count": 11,
      "outputs": []
    },
    {
      "cell_type": "markdown",
      "source": [
        "In below graph we shall try to get the idea that which type of jobs people are having with which frequency. We shall be using horizontal bar graph."
      ],
      "metadata": {
        "id": "puNJdLXdYlrv"
      }
    },
    {
      "cell_type": "code",
      "source": [
        "df['employemnt.status'].value_counts().plot(kind='barh')\n",
        "plt.title('Job Graph')\n",
        "plt.xlabel('Number')\n",
        "plt.ylabel('Job')"
      ],
      "metadata": {
        "colab": {
          "base_uri": "https://localhost:8080/",
          "height": 379
        },
        "id": "iBnX5rZhYgy7",
        "outputId": "0ce9b78a-0fb6-4455-d5c6-90662652c732"
      },
      "execution_count": 12,
      "outputs": [
        {
          "output_type": "execute_result",
          "data": {
            "text/plain": [
              "Text(0, 0.5, 'Job')"
            ]
          },
          "metadata": {},
          "execution_count": 12
        },
        {
          "output_type": "display_data",
          "data": {
            "text/plain": [
              "<Figure size 648x360 with 1 Axes>"
            ],
            "image/png": "[encoded data removed]"
          },
          "metadata": {
            "needs_background": "light"
          }
        }
      ]
    },
    {
      "cell_type": "markdown",
      "source": [
        "In this graph we shall get the idea what is the frequency of ages in our dataset."
      ],
      "metadata": {
        "id": "-qIb3yw2YvMS"
      }
    },
    {
      "cell_type": "code",
      "source": [
        "df['age'].value_counts().plot(kind='bar')\n",
        "plt.title('Age Graph')\n",
        "plt.xlabel('Ages')\n",
        "plt.ylabel('Number')"
      ],
      "metadata": {
        "colab": {
          "base_uri": "https://localhost:8080/",
          "height": 464
        },
        "id": "-hK7k6WmYpMB",
        "outputId": "2b97f577-f725-44c8-95cf-26f70619aaea"
      },
      "execution_count": 13,
      "outputs": [
        {
          "output_type": "execute_result",
          "data": {
            "text/plain": [
              "Text(0, 0.5, 'Number')"
            ]
          },
          "metadata": {},
          "execution_count": 13
        },
        {
          "output_type": "display_data",
          "data": {
            "text/plain": [
              "<Figure size 648x360 with 1 Axes>"
            ],
            "image/png": "[encoded data removed]"
          },
          "metadata": {
            "needs_background": "light"
          }
        }
      ]
    },
    {
      "cell_type": "markdown",
      "source": [
        "In this graph we shall get the idea of countries and number of people doing coding in those countries. Line graph will be used for this visualization."
      ],
      "metadata": {
        "id": "RvUTnRkBY4f2"
      }
    },
    {
      "cell_type": "code",
      "source": [
        "df['country'].value_counts().plot()\n",
        "plt.title('Country Graph')\n",
        "plt.xlabel('Countries')\n",
        "plt.ylabel('Number')\n",
        "plt.xticks(rotation=45)"
      ],
      "metadata": {
        "colab": {
          "base_uri": "https://localhost:8080/",
          "height": 460
        },
        "id": "JeNBfVHqYyhA",
        "outputId": "22e9c2b8-7d2b-43b1-fae8-70e3623c0c4e"
      },
      "execution_count": 14,
      "outputs": [
        {
          "output_type": "execute_result",
          "data": {
            "text/plain": [
              "(array([-10.,   0.,  10.,  20.,  30.,  40.,  50.,  60.,  70.]),\n",
              " <a list of 9 Text major ticklabel objects>)"
            ]
          },
          "metadata": {},
          "execution_count": 14
        },
        {
          "output_type": "display_data",
          "data": {
            "text/plain": [
              "<Figure size 648x360 with 1 Axes>"
            ],
            "image/png": "[encoded data removed]"
          },
          "metadata": {
            "needs_background": "light"
          }
        }
      ]
    },
    {
      "cell_type": "markdown",
      "source": [
        "In this graph we shall use bar chart to analyze the programming languages and their frequency trend."
      ],
      "metadata": {
        "id": "c-IJk6-1ZBFp"
      }
    },
    {
      "cell_type": "code",
      "source": [
        "df[['Java','C','C++','Python','C#','PHP','JavaScript','Ruby','Kotlin','Swift','Go','HTML / CSS','R','Dart','Rust','Julia']].sum().plot(kind='bar')\n",
        "plt.title('Programming Languages Graph')\n",
        "plt.xlabel('Languages')\n",
        "plt.ylabel('Number')"
      ],
      "metadata": {
        "colab": {
          "base_uri": "https://localhost:8080/",
          "height": 445
        },
        "id": "t2etXnVQY7cq",
        "outputId": "3d546d65-69f0-49be-8ad4-9436465bdad0"
      },
      "execution_count": 15,
      "outputs": [
        {
          "output_type": "execute_result",
          "data": {
            "text/plain": [
              "Text(0, 0.5, 'Number')"
            ]
          },
          "metadata": {},
          "execution_count": 15
        },
        {
          "output_type": "display_data",
          "data": {
            "text/plain": [
              "<Figure size 648x360 with 1 Axes>"
            ],
            "image/png": "[encoded data removed]"
          },
          "metadata": {
            "needs_background": "light"
          }
        }
      ]
    },
    {
      "cell_type": "markdown",
      "source": [
        "# Conclusion"
      ],
      "metadata": {
        "id": "K3HaJ9VuZJCT"
      }
    },
    {
      "cell_type": "markdown",
      "source": [
        "From above graphs we can conclude that 'Fully employed by a company / organization' is the most common job in the employment status, most programmers lie between '21 to 29' age group, 'United States' is having majority of programmers, and 'JavaScript, java, HTML/CSS' are trending languages."
      ],
      "metadata": {
        "id": "iIGNfzcQZOvv"
      }
    },
    {
      "cell_type": "markdown",
      "source": [
        "# Asking and Answering Questions"
      ],
      "metadata": {
        "id": "cNyNzJu8ZWHe"
      }
    },
    {
      "cell_type": "markdown",
      "source": [
        "In this section we shall ask some interesting questions keeping in mind above visual conclusions."
      ],
      "metadata": {
        "id": "ygvKktuhZYdb"
      }
    },
    {
      "cell_type": "markdown",
      "source": [
        "**Q1: In the graph of countries we have seen only six countries but do we have data of only six countries or do have data of more countries? let's find it!**"
      ],
      "metadata": {
        "id": "XOalV-paZhVg"
      }
    },
    {
      "cell_type": "code",
      "source": [
        "df['country'].unique()"
      ],
      "metadata": {
        "colab": {
          "base_uri": "https://localhost:8080/"
        },
        "id": "tAPqdI8oZEVM",
        "outputId": "b39f98f2-08b2-48e9-ce4b-12e5b9509564"
      },
      "execution_count": 16,
      "outputs": [
        {
          "output_type": "execute_result",
          "data": {
            "text/plain": [
              "array(['Belarus', 'Netherlands', 'France', 'Ukraine', 'United Kingdom',\n",
              "       'Poland', 'Austria', 'United States', 'Brazil', 'Japan', 'Spain',\n",
              "       'Canada', 'Switzerland', 'Hungary', 'Russia', 'Malaysia', 'Sweden',\n",
              "       'Finland', 'Norway', 'Romania', 'Germany', 'Israel', 'South Korea',\n",
              "       'Lithuania', 'Estonia', 'Czech Republic', 'South Africa', 'other',\n",
              "       'Ireland', 'Turkey', 'Bulgaria', 'Italy', 'Mexico', 'China',\n",
              "       'India', 'Peru', 'Slovakia', 'Greece', 'Argentina', 'Portugal',\n",
              "       'Latvia', 'Belgium', 'Croatia', 'Denmark', 'Vietnam', 'Taiwan',\n",
              "       'Singapore', 'Bangladesh', 'Colombia', 'Hong Kong', 'Serbia',\n",
              "       'Slovenia', 'Chile', 'Indonesia', 'Australia', 'New Zealand',\n",
              "       'Pakistan', 'Philippines', 'Iran', 0], dtype=object)"
            ]
          },
          "metadata": {},
          "execution_count": 16
        }
      ]
    },
    {
      "cell_type": "markdown",
      "source": [
        "Hence we seen that we have data of other countries also but we got data of only six countries because they were top countries."
      ],
      "metadata": {
        "id": "GUL-FcwKZ0gu"
      }
    },
    {
      "cell_type": "markdown",
      "source": [
        "**Q2: Let's find how many people are working with a language according to their jobs.**"
      ],
      "metadata": {
        "id": "2PmVz-73Z4Jm"
      }
    },
    {
      "cell_type": "code",
      "source": [
        "df_emp_programming_sum = df.groupby('employemnt.status')[['Java','C','C++','Python','C#','PHP','JavaScript','Ruby','Kotlin','Swift','Go','HTML / CSS','R','Dart','Rust','Julia']].sum()\n",
        "df_emp_programming_sum"
      ],
      "metadata": {
        "colab": {
          "base_uri": "https://localhost:8080/",
          "height": 296
        },
        "id": "JgV4lC2_ZvO-",
        "outputId": "870e7ec6-8143-40a5-c206-55730567b79a"
      },
      "execution_count": 17,
      "outputs": [
        {
          "output_type": "execute_result",
          "data": {
            "text/plain": [
              "                                                Java    C  C++  Python    C#  \\\n",
              "employemnt.status                                                              \n",
              "Currently unemployed                              38   21   23      40    10   \n",
              "Freelancer                                       145   30   36     108    67   \n",
              "Fully employed by a company / organization      3281  575  811    2205  1544   \n",
              "Other - Write In:                                 48   12   24      31    23   \n",
              "Partially employed by a company / organization   120   37   51     112    51   \n",
              "Retired                                            7    6    7      11     3   \n",
              "Self-employed                                    247   76   72     189   140   \n",
              "Student                                          636  299  333     550   250   \n",
              "\n",
              "                                                 PHP  JavaScript  Ruby  \\\n",
              "employemnt.status                                                        \n",
              "Currently unemployed                              20          49     7   \n",
              "Freelancer                                        91         216    23   \n",
              "Fully employed by a company / organization      1180        3826   469   \n",
              "Other - Write In:                                 20          48     2   \n",
              "Partially employed by a company / organization    65         129    21   \n",
              "Retired                                            3          10     0   \n",
              "Self-employed                                    170         402    58   \n",
              "Student                                          251         537    60   \n",
              "\n",
              "                                                Kotlin  Swift   Go  \\\n",
              "employemnt.status                                                    \n",
              "Currently unemployed                                17      2   15   \n",
              "Freelancer                                          53     36   28   \n",
              "Fully employed by a company / organization         972    444  706   \n",
              "Other - Write In:                                   12      6    5   \n",
              "Partially employed by a company / organization      43     12   15   \n",
              "Retired                                              3      0    3   \n",
              "Self-employed                                       78     67   53   \n",
              "Student                                            181     67   79   \n",
              "\n",
              "                                                HTML / CSS    R  Dart  Rust  \\\n",
              "employemnt.status                                                             \n",
              "Currently unemployed                                    48    1     1    13   \n",
              "Freelancer                                             184    6     7     3   \n",
              "Fully employed by a company / organization            2982  145    59   333   \n",
              "Other - Write In:                                       47    3     0     3   \n",
              "Partially employed by a company / organization         114    9     0    18   \n",
              "Retired                                                 10    0     0     1   \n",
              "Self-employed                                          338   20     6    19   \n",
              "Student                                                519   46     9   108   \n",
              "\n",
              "                                                Julia  \n",
              "employemnt.status                                      \n",
              "Currently unemployed                                0  \n",
              "Freelancer                                          0  \n",
              "Fully employed by a company / organization         24  \n",
              "Other - Write In:                                   2  \n",
              "Partially employed by a company / organization      1  \n",
              "Retired                                             0  \n",
              "Self-employed                                       7  \n",
              "Student                                             7  "
            ],
            "text/html": [
              "\n",
              "  <div id=\"df-efa12b44-daef-4814-a3e4-4eac8768ede0\">\n",
              "    <div class=\"colab-df-container\">\n",
              "      <div>\n",
              "<style scoped>\n",
              "    .dataframe tbody tr th:only-of-type {\n",
              "        vertical-align: middle;\n",
              "    }\n",
              "\n",
              "    .dataframe tbody tr th {\n",
              "        vertical-align: top;\n",
              "    }\n",
              "\n",
              "    .dataframe thead th {\n",
              "        text-align: right;\n",
              "    }\n",
              "</style>\n",
              "<table border=\"1\" class=\"dataframe\">\n",
              "  <thead>\n",
              "    <tr style=\"text-align: right;\">\n",
              "      <th></th>\n",
              "      <th>Java</th>\n",
              "      <th>C</th>\n",
              "      <th>C++</th>\n",
              "      <th>Python</th>\n",
              "      <th>C#</th>\n",
              "      <th>PHP</th>\n",
              "      <th>JavaScript</th>\n",
              "      <th>Ruby</th>\n",
              "      <th>Kotlin</th>\n",
              "      <th>Swift</th>\n",
              "      <th>Go</th>\n",
              "      <th>HTML / CSS</th>\n",
              "      <th>R</th>\n",
              "      <th>Dart</th>\n",
              "      <th>Rust</th>\n",
              "      <th>Julia</th>\n",
              "    </tr>\n",
              "    <tr>\n",
              "      <th>employemnt.status</th>\n",
              "      <th></th>\n",
              "      <th></th>\n",
              "      <th></th>\n",
              "      <th></th>\n",
              "      <th></th>\n",
              "      <th></th>\n",
              "      <th></th>\n",
              "      <th></th>\n",
              "      <th></th>\n",
              "      <th></th>\n",
              "      <th></th>\n",
              "      <th></th>\n",
              "      <th></th>\n",
              "      <th></th>\n",
              "      <th></th>\n",
              "      <th></th>\n",
              "    </tr>\n",
              "  </thead>\n",
              "  <tbody>\n",
              "    <tr>\n",
              "      <th>Currently unemployed</th>\n",
              "      <td>38</td>\n",
              "      <td>21</td>\n",
              "      <td>23</td>\n",
              "      <td>40</td>\n",
              "      <td>10</td>\n",
              "      <td>20</td>\n",
              "      <td>49</td>\n",
              "      <td>7</td>\n",
              "      <td>17</td>\n",
              "      <td>2</td>\n",
              "      <td>15</td>\n",
              "      <td>48</td>\n",
              "      <td>1</td>\n",
              "      <td>1</td>\n",
              "      <td>13</td>\n",
              "      <td>0</td>\n",
              "    </tr>\n",
              "    <tr>\n",
              "      <th>Freelancer</th>\n",
              "      <td>145</td>\n",
              "      <td>30</td>\n",
              "      <td>36</td>\n",
              "      <td>108</td>\n",
              "      <td>67</td>\n",
              "      <td>91</td>\n",
              "      <td>216</td>\n",
              "      <td>23</td>\n",
              "      <td>53</td>\n",
              "      <td>36</td>\n",
              "      <td>28</td>\n",
              "      <td>184</td>\n",
              "      <td>6</td>\n",
              "      <td>7</td>\n",
              "      <td>3</td>\n",
              "      <td>0</td>\n",
              "    </tr>\n",
              "    <tr>\n",
              "      <th>Fully employed by a company / organization</th>\n",
              "      <td>3281</td>\n",
              "      <td>575</td>\n",
              "      <td>811</td>\n",
              "      <td>2205</td>\n",
              "      <td>1544</td>\n",
              "      <td>1180</td>\n",
              "      <td>3826</td>\n",
              "      <td>469</td>\n",
              "      <td>972</td>\n",
              "      <td>444</td>\n",
              "      <td>706</td>\n",
              "      <td>2982</td>\n",
              "      <td>145</td>\n",
              "      <td>59</td>\n",
              "      <td>333</td>\n",
              "      <td>24</td>\n",
              "    </tr>\n",
              "    <tr>\n",
              "      <th>Other - Write In:</th>\n",
              "      <td>48</td>\n",
              "      <td>12</td>\n",
              "      <td>24</td>\n",
              "      <td>31</td>\n",
              "      <td>23</td>\n",
              "      <td>20</td>\n",
              "      <td>48</td>\n",
              "      <td>2</td>\n",
              "      <td>12</td>\n",
              "      <td>6</td>\n",
              "      <td>5</td>\n",
              "      <td>47</td>\n",
              "      <td>3</td>\n",
              "      <td>0</td>\n",
              "      <td>3</td>\n",
              "      <td>2</td>\n",
              "    </tr>\n",
              "    <tr>\n",
              "      <th>Partially employed by a company / organization</th>\n",
              "      <td>120</td>\n",
              "      <td>37</td>\n",
              "      <td>51</td>\n",
              "      <td>112</td>\n",
              "      <td>51</td>\n",
              "      <td>65</td>\n",
              "      <td>129</td>\n",
              "      <td>21</td>\n",
              "      <td>43</td>\n",
              "      <td>12</td>\n",
              "      <td>15</td>\n",
              "      <td>114</td>\n",
              "      <td>9</td>\n",
              "      <td>0</td>\n",
              "      <td>18</td>\n",
              "      <td>1</td>\n",
              "    </tr>\n",
              "    <tr>\n",
              "      <th>Retired</th>\n",
              "      <td>7</td>\n",
              "      <td>6</td>\n",
              "      <td>7</td>\n",
              "      <td>11</td>\n",
              "      <td>3</td>\n",
              "      <td>3</td>\n",
              "      <td>10</td>\n",
              "      <td>0</td>\n",
              "      <td>3</td>\n",
              "      <td>0</td>\n",
              "      <td>3</td>\n",
              "      <td>10</td>\n",
              "      <td>0</td>\n",
              "      <td>0</td>\n",
              "      <td>1</td>\n",
              "      <td>0</td>\n",
              "    </tr>\n",
              "    <tr>\n",
              "      <th>Self-employed</th>\n",
              "      <td>247</td>\n",
              "      <td>76</td>\n",
              "      <td>72</td>\n",
              "      <td>189</td>\n",
              "      <td>140</td>\n",
              "      <td>170</td>\n",
              "      <td>402</td>\n",
              "      <td>58</td>\n",
              "      <td>78</td>\n",
              "      <td>67</td>\n",
              "      <td>53</td>\n",
              "      <td>338</td>\n",
              "      <td>20</td>\n",
              "      <td>6</td>\n",
              "      <td>19</td>\n",
              "      <td>7</td>\n",
              "    </tr>\n",
              "    <tr>\n",
              "      <th>Student</th>\n",
              "      <td>636</td>\n",
              "      <td>299</td>\n",
              "      <td>333</td>\n",
              "      <td>550</td>\n",
              "      <td>250</td>\n",
              "      <td>251</td>\n",
              "      <td>537</td>\n",
              "      <td>60</td>\n",
              "      <td>181</td>\n",
              "      <td>67</td>\n",
              "      <td>79</td>\n",
              "      <td>519</td>\n",
              "      <td>46</td>\n",
              "      <td>9</td>\n",
              "      <td>108</td>\n",
              "      <td>7</td>\n",
              "    </tr>\n",
              "  </tbody>\n",
              "</table>\n",
              "</div>\n",
              "      <button class=\"colab-df-convert\" onclick=\"convertToInteractive('df-efa12b44-daef-4814-a3e4-4eac8768ede0')\"\n",
              "              title=\"Convert this dataframe to an interactive table.\"\n",
              "              style=\"display:none;\">\n",
              "        \n",
              "  <svg xmlns=\"http://www.w3.org/2000/svg\" height=\"24px\"viewBox=\"0 0 24 24\"\n",
              "       width=\"24px\">\n",
              "    <path d=\"M0 0h24v24H0V0z\" fill=\"none\"/>\n",
              "    <path d=\"M18.56 5.44l.94 2.06.94-2.06 2.06-.94-2.06-.94-.94-2.06-.94 2.06-2.06.94zm-11 1L8.5 8.5l.94-2.06 2.06-.94-2.06-.94L8.5 2.5l-.94 2.06-2.06.94zm10 10l.94 2.06.94-2.06 2.06-.94-2.06-.94-.94-2.06-.94 2.06-2.06.94z\"/><path d=\"M17.41 7.96l-1.37-1.37c-.4-.4-.92-.59-1.43-.59-.52 0-1.04.2-1.43.59L10.3 9.45l-7.72 7.72c-.78.78-.78 2.05 0 2.83L4 21.41c.39.39.9.59 1.41.59.51 0 1.02-.2 1.41-.59l7.78-7.78 2.81-2.81c.8-.78.8-2.07 0-2.86zM5.41 20L4 18.59l7.72-7.72 1.47 1.35L5.41 20z\"/>\n",
              "  </svg>\n",
              "      </button>\n",
              "      \n",
              "  <style>\n",
              "    .colab-df-container {\n",
              "      display:flex;\n",
              "      flex-wrap:wrap;\n",
              "      gap: 12px;\n",
              "    }\n",
              "\n",
              "    .colab-df-convert {\n",
              "      background-color: #E8F0FE;\n",
              "      border: none;\n",
              "      border-radius: 50%;\n",
              "      cursor: pointer;\n",
              "      display: none;\n",
              "      fill: #1967D2;\n",
              "      height: 32px;\n",
              "      padding: 0 0 0 0;\n",
              "      width: 32px;\n",
              "    }\n",
              "\n",
              "    .colab-df-convert:hover {\n",
              "      background-color: #E2EBFA;\n",
              "      box-shadow: 0px 1px 2px rgba(60, 64, 67, 0.3), 0px 1px 3px 1px rgba(60, 64, 67, 0.15);\n",
              "      fill: #174EA6;\n",
              "    }\n",
              "\n",
              "    [theme=dark] .colab-df-convert {\n",
              "      background-color: #3B4455;\n",
              "      fill: #D2E3FC;\n",
              "    }\n",
              "\n",
              "    [theme=dark] .colab-df-convert:hover {\n",
              "      background-color: #434B5C;\n",
              "      box-shadow: 0px 1px 3px 1px rgba(0, 0, 0, 0.15);\n",
              "      filter: drop-shadow(0px 1px 2px rgba(0, 0, 0, 0.3));\n",
              "      fill: #FFFFFF;\n",
              "    }\n",
              "  </style>\n",
              "\n",
              "      <script>\n",
              "        const buttonEl =\n",
              "          document.querySelector('#df-efa12b44-daef-4814-a3e4-4eac8768ede0 button.colab-df-convert');\n",
              "        buttonEl.style.display =\n",
              "          google.colab.kernel.accessAllowed ? 'block' : 'none';\n",
              "\n",
              "        async function convertToInteractive(key) {\n",
              "          const element = document.querySelector('#df-efa12b44-daef-4814-a3e4-4eac8768ede0');\n",
              "          const dataTable =\n",
              "            await google.colab.kernel.invokeFunction('convertToInteractive',\n",
              "                                                     [key], {});\n",
              "          if (!dataTable) return;\n",
              "\n",
              "          const docLinkHtml = 'Like what you see? Visit the ' +\n",
              "            '<a target=\"_blank\" href=https://colab.research.google.com/notebooks/data_table.ipynb>data table notebook</a>'\n",
              "            + ' to learn more about interactive tables.';\n",
              "          element.innerHTML = '';\n",
              "          dataTable['output_type'] = 'display_data';\n",
              "          await google.colab.output.renderOutput(dataTable, element);\n",
              "          const docLink = document.createElement('div');\n",
              "          docLink.innerHTML = docLinkHtml;\n",
              "          element.appendChild(docLink);\n",
              "        }\n",
              "      </script>\n",
              "    </div>\n",
              "  </div>\n",
              "  "
            ]
          },
          "metadata": {},
          "execution_count": 17
        }
      ]
    },
    {
      "cell_type": "markdown",
      "source": [
        "**Q3: From the graph of job status we found that 'Fully employed by a company / organization' is most common employment status. Let's find for each job status that which language is famous?**"
      ],
      "metadata": {
        "id": "9N0CnuyiaDH2"
      }
    },
    {
      "cell_type": "code",
      "source": [
        "maxValueIndexObj = df_emp_programming_sum.idxmax(axis=1)\n",
        "maxValueIndexObj"
      ],
      "metadata": {
        "colab": {
          "base_uri": "https://localhost:8080/"
        },
        "id": "HpUPebGYZ9qT",
        "outputId": "9e76f959-12a1-4a81-b5c2-b3bff7765852"
      },
      "execution_count": 18,
      "outputs": [
        {
          "output_type": "execute_result",
          "data": {
            "text/plain": [
              "employemnt.status\n",
              "Currently unemployed                              JavaScript\n",
              "Freelancer                                        JavaScript\n",
              "Fully employed by a company / organization        JavaScript\n",
              "Other - Write In:                                       Java\n",
              "Partially employed by a company / organization    JavaScript\n",
              "Retired                                               Python\n",
              "Self-employed                                     JavaScript\n",
              "Student                                                 Java\n",
              "dtype: object"
            ]
          },
          "metadata": {},
          "execution_count": 18
        }
      ]
    },
    {
      "cell_type": "markdown",
      "source": [
        "**Q4: We have seen United States as having max programmers. let's find most common language in each country.**"
      ],
      "metadata": {
        "id": "KMdjTXWyaOTf"
      }
    },
    {
      "cell_type": "code",
      "source": [
        "df_country_sum = df.groupby('country')[['Java','C','C++','Python','C#','PHP','JavaScript','Ruby','Kotlin','Swift','Go','HTML / CSS','R','Dart','Rust','Julia']].sum()"
      ],
      "metadata": {
        "id": "Kdd0blNEaG8-"
      },
      "execution_count": 19,
      "outputs": []
    },
    {
      "cell_type": "code",
      "source": [
        "maxValueIndexObj = df_country_sum.idxmax(axis=1)\n",
        "maxValueIndexObj"
      ],
      "metadata": {
        "colab": {
          "base_uri": "https://localhost:8080/"
        },
        "id": "HWdC6u7bac4a",
        "outputId": "aa07843a-3758-408b-ae7e-c18133f5d323"
      },
      "execution_count": 20,
      "outputs": [
        {
          "output_type": "execute_result",
          "data": {
            "text/plain": [
              "country\n",
              "0                 JavaScript\n",
              "Argentina         JavaScript\n",
              "Australia         JavaScript\n",
              "Austria                 Java\n",
              "Bangladesh        JavaScript\n",
              "Belarus                 Java\n",
              "Belgium           JavaScript\n",
              "Brazil            JavaScript\n",
              "Bulgaria                Java\n",
              "Canada            JavaScript\n",
              "Chile             JavaScript\n",
              "China                   Java\n",
              "Colombia          JavaScript\n",
              "Croatia                 Java\n",
              "Czech Republic    JavaScript\n",
              "Denmark                 Java\n",
              "Estonia                 Java\n",
              "Finland           JavaScript\n",
              "France            JavaScript\n",
              "Germany           JavaScript\n",
              "Greece                  Java\n",
              "Hong Kong         JavaScript\n",
              "Hungary                 Java\n",
              "India             JavaScript\n",
              "Indonesia         JavaScript\n",
              "Iran              JavaScript\n",
              "Ireland           JavaScript\n",
              "Israel            JavaScript\n",
              "Italy                   Java\n",
              "Japan             JavaScript\n",
              "Latvia            JavaScript\n",
              "Lithuania         JavaScript\n",
              "Malaysia          JavaScript\n",
              "Mexico            JavaScript\n",
              "Netherlands       JavaScript\n",
              "New Zealand       JavaScript\n",
              "Norway            JavaScript\n",
              "Pakistan          JavaScript\n",
              "Peru              JavaScript\n",
              "Philippines       JavaScript\n",
              "Poland            JavaScript\n",
              "Portugal          JavaScript\n",
              "Romania           JavaScript\n",
              "Russia            JavaScript\n",
              "Serbia            JavaScript\n",
              "Singapore               Java\n",
              "Slovakia                Java\n",
              "Slovenia                Java\n",
              "South Africa      JavaScript\n",
              "South Korea             Java\n",
              "Spain             JavaScript\n",
              "Sweden            JavaScript\n",
              "Switzerland             Java\n",
              "Taiwan            JavaScript\n",
              "Turkey            JavaScript\n",
              "Ukraine           JavaScript\n",
              "United Kingdom    JavaScript\n",
              "United States     JavaScript\n",
              "Vietnam                 Java\n",
              "other             JavaScript\n",
              "dtype: object"
            ]
          },
          "metadata": {},
          "execution_count": 20
        }
      ]
    },
    {
      "cell_type": "markdown",
      "source": [
        "**Q5 Let's find popular languages in each age groups.**"
      ],
      "metadata": {
        "id": "87tXh7OIapvA"
      }
    },
    {
      "cell_type": "code",
      "source": [
        "df_age_sum = df.groupby('age')[['Java','C','C++','Python','C#','PHP','JavaScript','Ruby','Kotlin','Swift','Go','HTML / CSS','R','Dart','Rust','Julia']].sum()"
      ],
      "metadata": {
        "id": "cr3aW2vnagIp"
      },
      "execution_count": 21,
      "outputs": []
    },
    {
      "cell_type": "code",
      "source": [
        "maxValueIndexObj = df_age_sum.idxmax(axis=1)\n",
        "maxValueIndexObj"
      ],
      "metadata": {
        "colab": {
          "base_uri": "https://localhost:8080/"
        },
        "id": "c2KcGSBbax8e",
        "outputId": "29a90036-b973-4c0c-9797-82860769599f"
      },
      "execution_count": 22,
      "outputs": [
        {
          "output_type": "execute_result",
          "data": {
            "text/plain": [
              "age\n",
              "0                JavaScript\n",
              "17 or younger    HTML / CSS\n",
              "18-20                  Java\n",
              "21-29            JavaScript\n",
              "30-39            JavaScript\n",
              "40-49            JavaScript\n",
              "50-59            JavaScript\n",
              "60 or older          Python\n",
              "dtype: object"
            ]
          },
          "metadata": {},
          "execution_count": 22
        }
      ]
    },
    {
      "cell_type": "markdown",
      "source": [
        "# Inferences and Conclusion"
      ],
      "metadata": {
        "id": "VWNVfBg3a7j8"
      }
    },
    {
      "cell_type": "markdown",
      "source": [
        "From all those questions we have found out that JavaScript is the most popular language in most employment status, countries, and age groups. This show javaScript is the most trending programming language in the world."
      ],
      "metadata": {
        "id": "vE1K9SI6a-BM"
      }
    }
  ]
}